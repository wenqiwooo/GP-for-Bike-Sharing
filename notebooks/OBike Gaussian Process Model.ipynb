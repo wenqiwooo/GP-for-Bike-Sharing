{
 "cells": [
  {
   "cell_type": "code",
   "execution_count": 175,
   "metadata": {},
   "outputs": [],
   "source": [
    "import pytz\n",
    "import numpy as np\n",
    "import pandas as pd\n",
    "import seaborn as sns\n",
    "import matplotlib.pyplot as plt\n",
    "from datetime import datetime\n",
    "\n",
    "# For cool animations\n",
    "from matplotlib import animation, rc\n",
    "from IPython.display import HTML\n",
    "\n",
    "# For Gaussian Process\n",
    "from sklearn.gaussian_process import GaussianProcessRegressor\n",
    "from sklearn.gaussian_process.kernels import ConstantKernel, ExpSineSquared, RationalQuadratic"
   ]
  },
  {
   "cell_type": "code",
   "execution_count": 146,
   "metadata": {},
   "outputs": [],
   "source": [
    "X = np.load('../tampines-npX.npy')\n",
    "y = np.load('../tampines-npY.npy')"
   ]
  },
  {
   "cell_type": "markdown",
   "metadata": {},
   "source": [
    "## Helper Methods"
   ]
  },
  {
   "cell_type": "code",
   "execution_count": 148,
   "metadata": {},
   "outputs": [],
   "source": [
    "def print_likelihood(gp):\n",
    "    print(\"\\nLearned kernel: %s\" % gp.kernel_)\n",
    "    print(\"Log-marginal-likelihood: %.3f\"\n",
    "          % gp.log_marginal_likelihood(gp.kernel_.theta))"
   ]
  },
  {
   "cell_type": "markdown",
   "metadata": {},
   "source": [
    "## Kernels\n",
    "\n",
    "We first try out our favorite RBF kernel to model our data."
   ]
  },
  {
   "cell_type": "code",
   "execution_count": 164,
   "metadata": {},
   "outputs": [],
   "source": [
    "def k1(theta1, theta2):\n",
    "    return theta1**2 * RBF(length_scale=theta2)"
   ]
  },
  {
   "cell_type": "code",
   "execution_count": 165,
   "metadata": {},
   "outputs": [],
   "source": [
    "def k2(theta3):\n",
    "    return ExpSineSquared(length_scale=theta3, periodicity=1.0,\n",
    "                        periodicity_bounds=\"fixed\") # seasonal component"
   ]
  },
  {
   "cell_type": "code",
   "execution_count": 170,
   "metadata": {},
   "outputs": [],
   "source": [
    "def k3(theta4, theta5, theta6):\n",
    "    return theta4**2 * RationalQuadratic(length_scale=theta5, alpha=theta6)"
   ]
  },
  {
   "cell_type": "code",
   "execution_count": 173,
   "metadata": {},
   "outputs": [],
   "source": [
    "def k_all(thetas):\n",
    "    return k1(thetas[0], thetas[1]) + k2(thetas[2]) + k3(thetas[3], thetas[4], thetas[5])"
   ]
  },
  {
   "cell_type": "code",
   "execution_count": null,
   "metadata": {},
   "outputs": [],
   "source": [
    "thetas = np.random.rand(6).tolist()\n",
    "\n",
    "gp = GaussianProcessRegressor(kernel=k_all(thetas), alpha=0.03, normalize_y=True)\n",
    "gp.fit(X, y)"
   ]
  },
  {
   "cell_type": "code",
   "execution_count": 169,
   "metadata": {},
   "outputs": [
    {
     "name": "stdout",
     "output_type": "stream",
     "text": [
      "\n",
      "Learned kernel: 0.759**2 * RBF(length_scale=0.765) + ExpSineSquared(length_scale=0.545, periodicity=1)\n",
      "Log-marginal-likelihood: -861157.156\n"
     ]
    }
   ],
   "source": [
    "print_likelihood(gp)"
   ]
  }
 ],
 "metadata": {
  "kernelspec": {
   "display_name": "Python 3",
   "language": "python",
   "name": "python3"
  },
  "language_info": {
   "codemirror_mode": {
    "name": "ipython",
    "version": 3
   },
   "file_extension": ".py",
   "mimetype": "text/x-python",
   "name": "python",
   "nbconvert_exporter": "python",
   "pygments_lexer": "ipython3",
   "version": "3.6.2"
  }
 },
 "nbformat": 4,
 "nbformat_minor": 2
}
