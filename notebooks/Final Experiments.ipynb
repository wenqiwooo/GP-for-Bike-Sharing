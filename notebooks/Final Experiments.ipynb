{
 "cells": [
  {
   "cell_type": "code",
   "execution_count": 1,
   "metadata": {},
   "outputs": [],
   "source": [
    "%matplotlib inline\n",
    "import numpy as np\n",
    "import pandas as pd\n",
    "import GPy\n",
    "\n",
    "from sklearn.metrics import mean_squared_error, r2_score\n",
    "\n",
    "from IPython.display import display\n",
    "GPy.plotting.change_plotting_library('matplotlib')"
   ]
  },
  {
   "cell_type": "markdown",
   "metadata": {},
   "source": [
    "# Helpers"
   ]
  },
  {
   "cell_type": "code",
   "execution_count": 2,
   "metadata": {},
   "outputs": [],
   "source": [
    "def filter_by_coordinates(data, coordinate_limits):\n",
    "    \"\"\"\n",
    "    Returns the filtered coordinates from the dataset.\n",
    "    \n",
    "    Params:\n",
    "        - coordinate_limits (tuple): in the format (MIN_LAT, MIN_LNG, MAX_LAT, MAX_LNG)\n",
    "    \n",
    "    Returns:\n",
    "        - numpy matrix that consists only of the filtered data\n",
    "    \"\"\" \n",
    "    min_lat, min_lng, max_lat, max_lng = coordinate_limits\n",
    "    \n",
    "    f1 = data[data[:, 0] > min_lat]\n",
    "    f2 = f1[f1[:, 0] < max_lat]\n",
    "    f3 = f2[f2[:, 1] > min_lng]\n",
    "    f4 = f3[f3[:, 1] < max_lng]\n",
    "\n",
    "    return f4\n",
    "\n",
    "def load_data(filename, coordinates):\n",
    "    data = filter_by_coordinates(np.load(filename), coordinates)    \n",
    "    X, y = data[:,0:3], data[:,3]\n",
    "    \n",
    "    return X, y\n",
    "\n",
    "def run_gp(dataset, kernel, coordinates):\n",
    "    \"\"\"\n",
    "    Runs the entire GP as a single method and returns the trained model. It is possible to continue\n",
    "    training it with restarts after the initial training.\n",
    "    \n",
    "    Params:\n",
    "        - dataset (str): name of dataset in `.npy` format to train the GP\n",
    "        - kernel: GPy kernel object that defines the covariance function of our GP\n",
    "        - top_left (tuple): (LAT, LNG) of the top left corner of our area concerned\n",
    "        - bottom_right (tuple): (LAT, LNG) of the bottom right corner of our area concerned\n",
    "\n",
    "    Returns:\n",
    "        - a trained GPy model\n",
    "    \"\"\"\n",
    "    X, y = load_data(dataset, coordinates)\n",
    "    \n",
    "    print('Training GP...')\n",
    "    print(f'X shape: {X.shape}')\n",
    "    print(f'y shape: {y.shape}')\n",
    "    \n",
    "    model = GPy.models.GPRegression(X, y[:,None], kernel)\n",
    "    model.optimize(messages=True)\n",
    "    \n",
    "    display(model)\n",
    "    print('Log Likelihood: ' + str(model.log_likelihood()))\n",
    "    \n",
    "    return model"
   ]
  },
  {
   "cell_type": "markdown",
   "metadata": {},
   "source": [
    "# Kernel\n",
    "\n",
    "Define your kernel here."
   ]
  },
  {
   "cell_type": "code",
   "execution_count": 3,
   "metadata": {},
   "outputs": [],
   "source": [
    "def get_kernel():\n",
    "    return GPy.kern.RBF(1, active_dims=[0]) + GPy.kern.RBF(1, active_dims=[1]) + GPy.kern.StdPeriodic(1, active_dims=[2])"
   ]
  },
  {
   "cell_type": "markdown",
   "metadata": {},
   "source": [
    "# Datasets\n",
    "\n",
    "Store your datasets as a list of strings."
   ]
  },
  {
   "cell_type": "code",
   "execution_count": 4,
   "metadata": {},
   "outputs": [],
   "source": [
    "sizes = [200, 400]\n",
    "sk_datasets = [f'../data/sk-filtered_data-{size}.npy' for size in sizes]\n",
    "tp_datasets =[f'../data/tp-filtered_data-{size}.npy' for size in sizes]"
   ]
  },
  {
   "cell_type": "markdown",
   "metadata": {},
   "source": [
    "# Tampines"
   ]
  },
  {
   "cell_type": "code",
   "execution_count": 5,
   "metadata": {},
   "outputs": [
    {
     "name": "stdout",
     "output_type": "stream",
     "text": [
      "Training GP...\n",
      "X shape: (2304, 3)\n",
      "y shape: (2304,)\n",
      "Running L-BFGS-B (Scipy implementation) Code:\n",
      "  runtime   i      f              |g|        \n",
      "    16s44  0006   5.464572e+03   2.366003e+10 \n",
      "    54s91  0020   5.402096e+03   8.060104e+10 \n",
      " 01m56s67  0041   5.395952e+03   9.570436e+02 \n",
      "Runtime:  01m56s67\n",
      "Optimization status: Converged\n",
      "\n"
     ]
    },
    {
     "data": {
      "text/html": [
       "<style type=\"text/css\">\n",
       ".pd{\n",
       "    font-family: \"Courier New\", Courier, monospace !important;\n",
       "    width: 100%;\n",
       "    padding: 3px;\n",
       "}\n",
       "</style>\n",
       "\n",
       "<p class=pd>\n",
       "<b>Model</b>: GP regression<br>\n",
       "<b>Objective</b>: 5395.952182938733<br>\n",
       "<b>Number of Parameters</b>: 8<br>\n",
       "<b>Number of Optimization Parameters</b>: 8<br>\n",
       "<b>Updates</b>: True<br>\n",
       "</p>\n",
       "<style type=\"text/css\">\n",
       ".tg  {font-family:\"Courier New\", Courier, monospace !important;padding:2px 3px;word-break:normal;border-collapse:collapse;border-spacing:0;border-color:#DCDCDC;margin:0px auto;width:100%;}\n",
       ".tg td{font-family:\"Courier New\", Courier, monospace !important;font-weight:bold;color:#444;background-color:#F7FDFA;border-style:solid;border-width:1px;overflow:hidden;word-break:normal;border-color:#DCDCDC;}\n",
       ".tg th{font-family:\"Courier New\", Courier, monospace !important;font-weight:normal;color:#fff;background-color:#26ADE4;border-style:solid;border-width:1px;overflow:hidden;word-break:normal;border-color:#DCDCDC;}\n",
       ".tg .tg-left{font-family:\"Courier New\", Courier, monospace !important;font-weight:normal;text-align:left;}\n",
       ".tg .tg-center{font-family:\"Courier New\", Courier, monospace !important;font-weight:normal;text-align:center;}\n",
       ".tg .tg-right{font-family:\"Courier New\", Courier, monospace !important;font-weight:normal;text-align:right;}\n",
       "</style>\n",
       "<table class=\"tg\"><tr><th><b>  GP_regression.              </b></th><th><b>          value</b></th><th><b>constraints</b></th><th><b>priors</b></th></tr>\n",
       "<tr><td class=tg-left>  sum.mul.Mat32.variance      </td><td class=tg-right>  1.01090847765</td><td class=tg-center>    +ve    </td><td class=tg-center>      </td></tr>\n",
       "<tr><td class=tg-left>  sum.mul.Mat32.lengthscale   </td><td class=tg-right> 0.997653183935</td><td class=tg-center>    +ve    </td><td class=tg-center>      </td></tr>\n",
       "<tr><td class=tg-left>  sum.mul.Mat32_1.variance    </td><td class=tg-right>  1.01090847765</td><td class=tg-center>    +ve    </td><td class=tg-center>      </td></tr>\n",
       "<tr><td class=tg-left>  sum.mul.Mat32_1.lengthscale </td><td class=tg-right> 0.980664280085</td><td class=tg-center>    +ve    </td><td class=tg-center>      </td></tr>\n",
       "<tr><td class=tg-left>  sum.std_periodic.variance   </td><td class=tg-right> 0.997651260202</td><td class=tg-center>    +ve    </td><td class=tg-center>      </td></tr>\n",
       "<tr><td class=tg-left>  sum.std_periodic.period     </td><td class=tg-right>0.0975330398441</td><td class=tg-center>    +ve    </td><td class=tg-center>      </td></tr>\n",
       "<tr><td class=tg-left>  sum.std_periodic.lengthscale</td><td class=tg-right>  1.00646673103</td><td class=tg-center>    +ve    </td><td class=tg-center>      </td></tr>\n",
       "<tr><td class=tg-left>  Gaussian_noise.variance     </td><td class=tg-right>  6.29721544612</td><td class=tg-center>    +ve    </td><td class=tg-center>      </td></tr>\n",
       "</table>"
      ],
      "text/plain": [
       "<GPy.models.gp_regression.GPRegression at 0x10ef7a358>"
      ]
     },
     "metadata": {},
     "output_type": "display_data"
    },
    {
     "name": "stdout",
     "output_type": "stream",
     "text": [
      "Log Likelihood: -5395.95218294\n",
      "Training GP...\n",
      "X shape: (1552, 3)\n",
      "y shape: (1552,)\n",
      "Running L-BFGS-B (Scipy implementation) Code:\n",
      "  runtime   i      f              |g|        \n",
      "    03s79  0004   1.924721e+04   2.434813e+10 \n",
      "    19s33  0019   5.974657e+03   1.249080e+07 \n",
      "    20s52  0020   5.806734e+03   1.866835e+07 \n",
      " 01m02s51  0061   5.669945e+03   1.159184e+05 \n",
      " 01m03s44  0062   5.669945e+03   1.159184e+05 \n",
      "Runtime:  01m03s44\n",
      "Optimization status: Converged\n",
      "\n"
     ]
    },
    {
     "data": {
      "text/html": [
       "<style type=\"text/css\">\n",
       ".pd{\n",
       "    font-family: \"Courier New\", Courier, monospace !important;\n",
       "    width: 100%;\n",
       "    padding: 3px;\n",
       "}\n",
       "</style>\n",
       "\n",
       "<p class=pd>\n",
       "<b>Model</b>: GP regression<br>\n",
       "<b>Objective</b>: 5669.9450237723895<br>\n",
       "<b>Number of Parameters</b>: 8<br>\n",
       "<b>Number of Optimization Parameters</b>: 8<br>\n",
       "<b>Updates</b>: True<br>\n",
       "</p>\n",
       "<style type=\"text/css\">\n",
       ".tg  {font-family:\"Courier New\", Courier, monospace !important;padding:2px 3px;word-break:normal;border-collapse:collapse;border-spacing:0;border-color:#DCDCDC;margin:0px auto;width:100%;}\n",
       ".tg td{font-family:\"Courier New\", Courier, monospace !important;font-weight:bold;color:#444;background-color:#F7FDFA;border-style:solid;border-width:1px;overflow:hidden;word-break:normal;border-color:#DCDCDC;}\n",
       ".tg th{font-family:\"Courier New\", Courier, monospace !important;font-weight:normal;color:#fff;background-color:#26ADE4;border-style:solid;border-width:1px;overflow:hidden;word-break:normal;border-color:#DCDCDC;}\n",
       ".tg .tg-left{font-family:\"Courier New\", Courier, monospace !important;font-weight:normal;text-align:left;}\n",
       ".tg .tg-center{font-family:\"Courier New\", Courier, monospace !important;font-weight:normal;text-align:center;}\n",
       ".tg .tg-right{font-family:\"Courier New\", Courier, monospace !important;font-weight:normal;text-align:right;}\n",
       "</style>\n",
       "<table class=\"tg\"><tr><th><b>  GP_regression.              </b></th><th><b>         value</b></th><th><b>constraints</b></th><th><b>priors</b></th></tr>\n",
       "<tr><td class=tg-left>  sum.mul.Mat32.variance      </td><td class=tg-right> 1.17665571052</td><td class=tg-center>    +ve    </td><td class=tg-center>      </td></tr>\n",
       "<tr><td class=tg-left>  sum.mul.Mat32.lengthscale   </td><td class=tg-right>0.898764369491</td><td class=tg-center>    +ve    </td><td class=tg-center>      </td></tr>\n",
       "<tr><td class=tg-left>  sum.mul.Mat32_1.variance    </td><td class=tg-right> 1.17665571052</td><td class=tg-center>    +ve    </td><td class=tg-center>      </td></tr>\n",
       "<tr><td class=tg-left>  sum.mul.Mat32_1.lengthscale </td><td class=tg-right>0.800830030691</td><td class=tg-center>    +ve    </td><td class=tg-center>      </td></tr>\n",
       "<tr><td class=tg-left>  sum.std_periodic.variance   </td><td class=tg-right> 1.00695329308</td><td class=tg-center>    +ve    </td><td class=tg-center>      </td></tr>\n",
       "<tr><td class=tg-left>  sum.std_periodic.period     </td><td class=tg-right>0.953895071349</td><td class=tg-center>    +ve    </td><td class=tg-center>      </td></tr>\n",
       "<tr><td class=tg-left>  sum.std_periodic.lengthscale</td><td class=tg-right> 1.00444862438</td><td class=tg-center>    +ve    </td><td class=tg-center>      </td></tr>\n",
       "<tr><td class=tg-left>  Gaussian_noise.variance     </td><td class=tg-right> 86.4049706078</td><td class=tg-center>    +ve    </td><td class=tg-center>      </td></tr>\n",
       "</table>"
      ],
      "text/plain": [
       "<GPy.models.gp_regression.GPRegression at 0x10ef7ab70>"
      ]
     },
     "metadata": {},
     "output_type": "display_data"
    },
    {
     "name": "stdout",
     "output_type": "stream",
     "text": [
      "Log Likelihood: -5669.94502377\n"
     ]
    }
   ],
   "source": [
    "MAX_AREA = (1.351800, 103.943283, 1.360377, 103.957675)\n",
    "\n",
    "tp_models = []\n",
    "for dataset in tp_datasets:\n",
    "    model = run_gp(dataset, get_kernel(), MAX_AREA)\n",
    "    tp_models += [model]"
   ]
  },
  {
   "cell_type": "markdown",
   "metadata": {},
   "source": [
    "# Sengkang"
   ]
  },
  {
   "cell_type": "code",
   "execution_count": 6,
   "metadata": {},
   "outputs": [
    {
     "name": "stdout",
     "output_type": "stream",
     "text": [
      "Training GP...\n",
      "X shape: (2904, 3)\n",
      "y shape: (2904,)\n",
      "Running L-BFGS-B (Scipy implementation) Code:\n",
      "  runtime   i      f              |g|        \n",
      "    00s00  0000   6.293098e+03           nan \n",
      "    23s56  0006   5.491201e+03   1.132965e+08 \n",
      " 01m16s74  0020   5.482435e+03   6.552514e+03 \n",
      " 02m01s28  0032   5.180756e+03   1.469524e+07 \n",
      "Runtime:  02m01s28\n",
      "Optimization status: Converged\n",
      "\n"
     ]
    },
    {
     "data": {
      "text/html": [
       "<style type=\"text/css\">\n",
       ".pd{\n",
       "    font-family: \"Courier New\", Courier, monospace !important;\n",
       "    width: 100%;\n",
       "    padding: 3px;\n",
       "}\n",
       "</style>\n",
       "\n",
       "<p class=pd>\n",
       "<b>Model</b>: GP regression<br>\n",
       "<b>Objective</b>: 5180.756394235261<br>\n",
       "<b>Number of Parameters</b>: 8<br>\n",
       "<b>Number of Optimization Parameters</b>: 8<br>\n",
       "<b>Updates</b>: True<br>\n",
       "</p>\n",
       "<style type=\"text/css\">\n",
       ".tg  {font-family:\"Courier New\", Courier, monospace !important;padding:2px 3px;word-break:normal;border-collapse:collapse;border-spacing:0;border-color:#DCDCDC;margin:0px auto;width:100%;}\n",
       ".tg td{font-family:\"Courier New\", Courier, monospace !important;font-weight:bold;color:#444;background-color:#F7FDFA;border-style:solid;border-width:1px;overflow:hidden;word-break:normal;border-color:#DCDCDC;}\n",
       ".tg th{font-family:\"Courier New\", Courier, monospace !important;font-weight:normal;color:#fff;background-color:#26ADE4;border-style:solid;border-width:1px;overflow:hidden;word-break:normal;border-color:#DCDCDC;}\n",
       ".tg .tg-left{font-family:\"Courier New\", Courier, monospace !important;font-weight:normal;text-align:left;}\n",
       ".tg .tg-center{font-family:\"Courier New\", Courier, monospace !important;font-weight:normal;text-align:center;}\n",
       ".tg .tg-right{font-family:\"Courier New\", Courier, monospace !important;font-weight:normal;text-align:right;}\n",
       "</style>\n",
       "<table class=\"tg\"><tr><th><b>  GP_regression.              </b></th><th><b>         value</b></th><th><b>constraints</b></th><th><b>priors</b></th></tr>\n",
       "<tr><td class=tg-left>  sum.Mat32.variance          </td><td class=tg-right> 1.11970113786</td><td class=tg-center>    +ve    </td><td class=tg-center>      </td></tr>\n",
       "<tr><td class=tg-left>  sum.Mat32.lengthscale       </td><td class=tg-right>0.776677445157</td><td class=tg-center>    +ve    </td><td class=tg-center>      </td></tr>\n",
       "<tr><td class=tg-left>  sum.Mat32_1.variance        </td><td class=tg-right> 2.92519862281</td><td class=tg-center>    +ve    </td><td class=tg-center>      </td></tr>\n",
       "<tr><td class=tg-left>  sum.Mat32_1.lengthscale     </td><td class=tg-right>0.011872737956</td><td class=tg-center>    +ve    </td><td class=tg-center>      </td></tr>\n",
       "<tr><td class=tg-left>  sum.std_periodic.variance   </td><td class=tg-right>0.893129083112</td><td class=tg-center>    +ve    </td><td class=tg-center>      </td></tr>\n",
       "<tr><td class=tg-left>  sum.std_periodic.period     </td><td class=tg-right> 1.00033548346</td><td class=tg-center>    +ve    </td><td class=tg-center>      </td></tr>\n",
       "<tr><td class=tg-left>  sum.std_periodic.lengthscale</td><td class=tg-right> 1.32696463119</td><td class=tg-center>    +ve    </td><td class=tg-center>      </td></tr>\n",
       "<tr><td class=tg-left>  Gaussian_noise.variance     </td><td class=tg-right> 2.39907401444</td><td class=tg-center>    +ve    </td><td class=tg-center>      </td></tr>\n",
       "</table>"
      ],
      "text/plain": [
       "<GPy.models.gp_regression.GPRegression at 0x1091e2518>"
      ]
     },
     "metadata": {},
     "output_type": "display_data"
    },
    {
     "name": "stdout",
     "output_type": "stream",
     "text": [
      "Log Likelihood: -5180.75639424\n",
      "Training GP...\n",
      "X shape: (2820, 3)\n",
      "y shape: (2820,)\n",
      "Running L-BFGS-B (Scipy implementation) Code:\n",
      "  runtime   i      f              |g|        \n",
      "    13s60  0003   1.014089e+04   1.958732e+09 \n",
      "    25s50  0006   8.479575e+03   1.371141e+08 \n",
      " 01m22s68  0021   7.584031e+03   5.825669e+08 \n",
      " 02m20s40  0035   7.584605e+03   6.980663e+06 \n",
      " 03m33s27  0054   7.347983e+03   6.138414e+12 \n",
      " 03m45s97  0058   7.141890e+03   2.462272e+04 \n",
      "Runtime:  03m45s97\n",
      "Optimization status: Converged\n",
      "\n"
     ]
    },
    {
     "data": {
      "text/html": [
       "<style type=\"text/css\">\n",
       ".pd{\n",
       "    font-family: \"Courier New\", Courier, monospace !important;\n",
       "    width: 100%;\n",
       "    padding: 3px;\n",
       "}\n",
       "</style>\n",
       "\n",
       "<p class=pd>\n",
       "<b>Model</b>: GP regression<br>\n",
       "<b>Objective</b>: 7141.89011446258<br>\n",
       "<b>Number of Parameters</b>: 8<br>\n",
       "<b>Number of Optimization Parameters</b>: 8<br>\n",
       "<b>Updates</b>: True<br>\n",
       "</p>\n",
       "<style type=\"text/css\">\n",
       ".tg  {font-family:\"Courier New\", Courier, monospace !important;padding:2px 3px;word-break:normal;border-collapse:collapse;border-spacing:0;border-color:#DCDCDC;margin:0px auto;width:100%;}\n",
       ".tg td{font-family:\"Courier New\", Courier, monospace !important;font-weight:bold;color:#444;background-color:#F7FDFA;border-style:solid;border-width:1px;overflow:hidden;word-break:normal;border-color:#DCDCDC;}\n",
       ".tg th{font-family:\"Courier New\", Courier, monospace !important;font-weight:normal;color:#fff;background-color:#26ADE4;border-style:solid;border-width:1px;overflow:hidden;word-break:normal;border-color:#DCDCDC;}\n",
       ".tg .tg-left{font-family:\"Courier New\", Courier, monospace !important;font-weight:normal;text-align:left;}\n",
       ".tg .tg-center{font-family:\"Courier New\", Courier, monospace !important;font-weight:normal;text-align:center;}\n",
       ".tg .tg-right{font-family:\"Courier New\", Courier, monospace !important;font-weight:normal;text-align:right;}\n",
       "</style>\n",
       "<table class=\"tg\"><tr><th><b>  GP_regression.              </b></th><th><b>          value</b></th><th><b>constraints</b></th><th><b>priors</b></th></tr>\n",
       "<tr><td class=tg-left>  sum.Mat32.variance          </td><td class=tg-right>  1.00741966984</td><td class=tg-center>    +ve    </td><td class=tg-center>      </td></tr>\n",
       "<tr><td class=tg-left>  sum.Mat32.lengthscale       </td><td class=tg-right> 0.994043945399</td><td class=tg-center>    +ve    </td><td class=tg-center>      </td></tr>\n",
       "<tr><td class=tg-left>  sum.Mat32_1.variance        </td><td class=tg-right>  2.09394107648</td><td class=tg-center>    +ve    </td><td class=tg-center>      </td></tr>\n",
       "<tr><td class=tg-left>  sum.Mat32_1.lengthscale     </td><td class=tg-right>0.0222632656956</td><td class=tg-center>    +ve    </td><td class=tg-center>      </td></tr>\n",
       "<tr><td class=tg-left>  sum.std_periodic.variance   </td><td class=tg-right> 0.995396405753</td><td class=tg-center>    +ve    </td><td class=tg-center>      </td></tr>\n",
       "<tr><td class=tg-left>  sum.std_periodic.period     </td><td class=tg-right>  1.04024829055</td><td class=tg-center>    +ve    </td><td class=tg-center>      </td></tr>\n",
       "<tr><td class=tg-left>  sum.std_periodic.lengthscale</td><td class=tg-right>  1.02125598627</td><td class=tg-center>    +ve    </td><td class=tg-center>      </td></tr>\n",
       "<tr><td class=tg-left>  Gaussian_noise.variance     </td><td class=tg-right>  9.42560807094</td><td class=tg-center>    +ve    </td><td class=tg-center>      </td></tr>\n",
       "</table>"
      ],
      "text/plain": [
       "<GPy.models.gp_regression.GPRegression at 0x1091e2dd8>"
      ]
     },
     "metadata": {},
     "output_type": "display_data"
    },
    {
     "name": "stdout",
     "output_type": "stream",
     "text": [
      "Log Likelihood: -7141.89011446\n"
     ]
    }
   ],
   "source": [
    "MAX_AREA = (1.382030, 103.888635, 1.402076, 103.909292)\n",
    "\n",
    "sk_models = []\n",
    "for dataset in sk_datasets:\n",
    "    model = run_gp(dataset, get_kernel(), MAX_AREA)\n",
    "    sk_models += [model]"
   ]
  },
  {
   "cell_type": "markdown",
   "metadata": {},
   "source": [
    "# Analysis of models"
   ]
  },
  {
   "cell_type": "code",
   "execution_count": 7,
   "metadata": {},
   "outputs": [
    {
     "name": "stdout",
     "output_type": "stream",
     "text": [
      "Tampines\n",
      "../data/tp-filtered_data-200.npy: -5180.756394235261\n",
      "../data/tp-filtered_data-400.npy: -7141.89011446258\n",
      "Sengkang\n",
      "../data/sk-filtered_data-200.npy: -5395.952182938733\n",
      "../data/sk-filtered_data-400.npy: -5669.9450237723895\n"
     ]
    }
   ],
   "source": [
    "print('Tampines')\n",
    "for dataset, model in zip(tp_datasets, sk_models):\n",
    "    print(f'{dataset}: {model.log_likelihood()}')\n",
    "    \n",
    "print('Sengkang')\n",
    "for dataset, model in zip(sk_datasets, tp_models):\n",
    "    print(f'{dataset}: {model.log_likelihood()}')"
   ]
  },
  {
   "cell_type": "code",
   "execution_count": 8,
   "metadata": {},
   "outputs": [
    {
     "data": {
      "text/plain": [
       "<matplotlib.axes._subplots.AxesSubplot at 0x109212b70>"
      ]
     },
     "execution_count": 8,
     "metadata": {},
     "output_type": "execute_result"
    },
    {
     "name": "stderr",
     "output_type": "stream",
     "text": [
      " /Users/ianngiaw/Envs/cs4246/lib/python3.6/site-packages/matplotlib/figure.py:1743: UserWarning:This figure includes Axes that are not compatible with tight_layout, so its results might be incorrect.\n"
     ]
    },
    {
     "data": {
      "image/png": "[encoded data removed]",
      "text/plain": [
       "<matplotlib.figure.Figure at 0x109212358>"
      ]
     },
     "metadata": {},
     "output_type": "display_data"
    }
   ],
   "source": [
    "sk_models[0].plot_density(visible_dims=[2])"
   ]
  },
  {
   "cell_type": "markdown",
   "metadata": {},
   "source": [
    "# Prediction\n",
    "\n",
    "Let's run some predictions using our trained models."
   ]
  },
  {
   "cell_type": "code",
   "execution_count": 9,
   "metadata": {},
   "outputs": [],
   "source": [
    "def predict(model, dataset):\n",
    "    X, y = load_data()"
   ]
  },
  {
   "cell_type": "code",
   "execution_count": 10,
   "metadata": {},
   "outputs": [],
   "source": [
    "test_sk_datasets = [f'../data/test-sk-filtered_data-{size}.npy' for size in sizes]\n",
    "test_tp_datasets =[f'../data/test-tp-filtered_data-{size}.npy' for size in sizes]"
   ]
  },
  {
   "cell_type": "markdown",
   "metadata": {},
   "source": [
    "## Tampines"
   ]
  },
  {
   "cell_type": "code",
   "execution_count": 11,
   "metadata": {},
   "outputs": [
    {
     "name": "stdout",
     "output_type": "stream",
     "text": [
      "Predicting for dataset:../data/test-tp-filtered_data-200.npy\n",
      "6.24448579665\n",
      "0.00112219814782\n",
      "Predicting for dataset:../data/test-tp-filtered_data-400.npy\n",
      "86.2070366402\n",
      "-6.17382400967e-05\n"
     ]
    }
   ],
   "source": [
    "MAX_AREA = (1.351800, 103.943283, 1.360377, 103.957675)\n",
    "for dataset, model in zip(test_tp_datasets, tp_models):\n",
    "    print('Predicting for dataset:' + dataset)\n",
    "    X, y = load_data(dataset, MAX_AREA)\n",
    "    pred_y = model.predict(X)    \n",
    "    print(mean_squared_error(y, pred_y[0]))\n",
    "    print(r2_score(y, pred_y[0]))"
   ]
  },
  {
   "cell_type": "markdown",
   "metadata": {},
   "source": [
    "## Sengkang"
   ]
  },
  {
   "cell_type": "code",
   "execution_count": 12,
   "metadata": {},
   "outputs": [
    {
     "name": "stdout",
     "output_type": "stream",
     "text": [
      "Predicting for dataset:../data/test-sk-filtered_data-200.npy\n",
      "1.98597695679\n",
      "0.234387415099\n",
      "Predicting for dataset:../data/test-sk-filtered_data-400.npy\n",
      "8.97080193833\n",
      "0.4658252943\n"
     ]
    }
   ],
   "source": [
    "MAX_AREA = (1.382030, 103.888635, 1.402076, 103.909292)\n",
    "for dataset, model in zip(test_sk_datasets, sk_models):\n",
    "    print('Predicting for dataset:' + dataset)\n",
    "    X, y = load_data(dataset, MAX_AREA)\n",
    "    pred_y = model.predict(X)    \n",
    "    print(mean_squared_error(y, pred_y[0]))\n",
    "    print(r2_score(y, pred_y[0]))"
   ]
  }
 ],
 "metadata": {
  "kernelspec": {
   "display_name": "Python 3",
   "language": "python",
   "name": "python3"
  },
  "language_info": {
   "codemirror_mode": {
    "name": "ipython",
    "version": 3
   },
   "file_extension": ".py",
   "mimetype": "text/x-python",
   "name": "python",
   "nbconvert_exporter": "python",
   "pygments_lexer": "ipython3",
   "version": "3.6.0"
  }
 },
 "nbformat": 4,
 "nbformat_minor": 2
}
