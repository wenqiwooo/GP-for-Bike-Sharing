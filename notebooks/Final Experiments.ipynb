{
 "cells": [
  {
   "cell_type": "code",
   "execution_count": 6,
   "metadata": {},
   "outputs": [],
   "source": [
    "%matplotlib inline\n",
    "import numpy as np\n",
    "import pandas as pd\n",
    "import GPy\n",
    "\n",
    "from IPython.display import display\n",
    "GPy.plotting.change_plotting_library('matplotlib')"
   ]
  },
  {
   "cell_type": "markdown",
   "metadata": {},
   "source": [
    "# Helpers"
   ]
  },
  {
   "cell_type": "code",
   "execution_count": 16,
   "metadata": {},
   "outputs": [],
   "source": [
    "def filter_by_coordinates(data, coordinate_limits):\n",
    "    \"\"\"\n",
    "    Returns the filtered coordinates from the dataset.\n",
    "    \n",
    "    Params:\n",
    "        - coordinate_limits (tuple): in the format (MIN_LAT, MIN_LNG, MAX_LAT, MAX_LNG)\n",
    "    \n",
    "    Returns:\n",
    "        - numpy matrix that consists only of the filtered data\n",
    "    \"\"\" \n",
    "    min_lat, min_lng, max_lat, max_lng = coordinate_limits\n",
    "    \n",
    "    f1 = data[data[:, 0] > min_lat]\n",
    "    f2 = f1[f1[:, 0] < max_lat]\n",
    "    f3 = f2[f2[:, 1] > min_lng]\n",
    "    f4 = f3[f3[:, 1] < max_lng]\n",
    "\n",
    "    return f4\n",
    "\n",
    "def load_data(filename, coordinates):\n",
    "    if top_left and bottom_right:\n",
    "        data = filter_by_coordinates(np.load(filename), coordinates)\n",
    "    else:\n",
    "        data = np.load(filename)\n",
    "    \n",
    "    X, y = data[:,0:3], data[:,3]\n",
    "    \n",
    "    return X, y\n",
    "\n",
    "def run_gp(dataset, kernel, coordinates):\n",
    "    \"\"\"\n",
    "    Runs the entire GP as a single method and returns the trained model. It is possible to continue\n",
    "    training it with restarts after the initial training.\n",
    "    \n",
    "    Params:\n",
    "        - dataset (str): name of dataset in `.npy` format to train the GP\n",
    "        - kernel: GPy kernel object that defines the covariance function of our GP\n",
    "        - top_left (tuple): (LAT, LNG) of the top left corner of our area concerned\n",
    "        - bottom_right (tuple): (LAT, LNG) of the bottom right corner of our area concerned\n",
    "\n",
    "    Returns:\n",
    "        - a trained GPy model\n",
    "    \"\"\"\n",
    "    X, y = load_data(dataset, coordinates)\n",
    "    \n",
    "    print('Training GP...')\n",
    "    print(f'X shape: {X.shape}')\n",
    "    print(f'y shape: {y.shape}')\n",
    "    \n",
    "    model = GPy.models.GPRegression(X, y[:,None], kernel)\n",
    "    model.optimize(messages=True)\n",
    "    \n",
    "    display(model)\n",
    "    print('Log Likelihood: ' + model.log_likelihood())\n",
    "    \n",
    "    return model"
   ]
  },
  {
   "cell_type": "markdown",
   "metadata": {},
   "source": [
    "# Kernel\n",
    "\n",
    "Define your kernel here."
   ]
  },
  {
   "cell_type": "code",
   "execution_count": 8,
   "metadata": {},
   "outputs": [],
   "source": [
    "kernel = None"
   ]
  },
  {
   "cell_type": "markdown",
   "metadata": {},
   "source": [
    "# Datasets\n",
    "\n",
    "Store your datasets as a list of strings."
   ]
  },
  {
   "cell_type": "code",
   "execution_count": 9,
   "metadata": {},
   "outputs": [],
   "source": [
    "datasets = ['']"
   ]
  },
  {
   "cell_type": "markdown",
   "metadata": {},
   "source": [
    "# Tampines"
   ]
  },
  {
   "cell_type": "code",
   "execution_count": 22,
   "metadata": {},
   "outputs": [],
   "source": [
    "MAX_AREA = (1.351800, 103.943283, 1.360377, 103.957675)\n",
    "\n",
    "tp_models = []\n",
    "for dataset in datasets:\n",
    "    model = run_gp(dataset, MAX_AREA)\n",
    "    model.optimize(messages=True)\n",
    "    tp_models += [model]"
   ]
  },
  {
   "cell_type": "markdown",
   "metadata": {},
   "source": [
    "# Sengkang"
   ]
  },
  {
   "cell_type": "code",
   "execution_count": 23,
   "metadata": {},
   "outputs": [],
   "source": [
    "MAX_AREA = (1.382030, 103.888635, 1.402076, 103.909292)\n",
    "\n",
    "sk_models = []\n",
    "for dataset in datasets:\n",
    "    model = run_gp(dataset, kernel, MAX_AREA)\n",
    "    model.optimize(messages=True)\n",
    "    sk_models += [model]"
   ]
  },
  {
   "cell_type": "markdown",
   "metadata": {},
   "source": [
    "# Analysis of models"
   ]
  },
  {
   "cell_type": "code",
   "execution_count": 24,
   "metadata": {},
   "outputs": [
    {
     "name": "stdout",
     "output_type": "stream",
     "text": [
      "Tampines\n",
      "Sengkang\n"
     ]
    }
   ],
   "source": [
    "print('Tampines')\n",
    "for dataset, model in zip(datasets, sk_models):\n",
    "    print(f'{dataset}: {model.log_likelihood()}')\n",
    "    \n",
    "print('Sengkang')\n",
    "for dataset, model in zip(datasets, tp_models):\n",
    "    print(f'{dataset}: {model.log_likelihood()}')"
   ]
  }
 ],
 "metadata": {
  "kernelspec": {
   "display_name": "Python 3",
   "language": "python",
   "name": "python3"
  },
  "language_info": {
   "codemirror_mode": {
    "name": "ipython",
    "version": 3
   },
   "file_extension": ".py",
   "mimetype": "text/x-python",
   "name": "python",
   "nbconvert_exporter": "python",
   "pygments_lexer": "ipython3",
   "version": "3.6.2"
  }
 },
 "nbformat": 4,
 "nbformat_minor": 2
}
