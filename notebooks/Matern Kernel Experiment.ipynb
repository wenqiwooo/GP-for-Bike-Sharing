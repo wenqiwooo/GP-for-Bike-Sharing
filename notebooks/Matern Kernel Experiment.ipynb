{
 "cells": [
  {
   "cell_type": "code",
   "execution_count": 2,
   "metadata": {},
   "outputs": [],
   "source": [
    "%matplotlib inline\n",
    "import numpy as np\n",
    "import pandas as pd\n",
    "import GPy\n",
    "\n",
    "from IPython.display import display\n",
    "GPy.plotting.change_plotting_library('matplotlib')"
   ]
  },
  {
   "cell_type": "markdown",
   "metadata": {},
   "source": [
    "# Helpers"
   ]
  },
  {
   "cell_type": "code",
   "execution_count": 3,
   "metadata": {},
   "outputs": [],
   "source": [
    "def filter_by_coordinates(data, coordinate_limits):\n",
    "    \"\"\"\n",
    "    Returns the filtered coordinates from the dataset.\n",
    "    \n",
    "    Params:\n",
    "        - coordinate_limits (tuple): in the format (MIN_LAT, MIN_LNG, MAX_LAT, MAX_LNG)\n",
    "    \n",
    "    Returns:\n",
    "        - numpy matrix that consists only of the filtered data\n",
    "    \"\"\" \n",
    "    min_lat, min_lng, max_lat, max_lng = coordinate_limits\n",
    "    \n",
    "    f1 = data[data[:, 0] > min_lat]\n",
    "    f2 = f1[f1[:, 0] < max_lat]\n",
    "    f3 = f2[f2[:, 1] > min_lng]\n",
    "    f4 = f3[f3[:, 1] < max_lng]\n",
    "\n",
    "    return f4"
   ]
  },
  {
   "cell_type": "code",
   "execution_count": 4,
   "metadata": {},
   "outputs": [],
   "source": [
    "def filter_by_index(data, coordinate_indexes):\n",
    "    \"\"\"\n",
    "    Returns the coordinates that bounds the index of the location matrix.\n",
    "    \n",
    "    Params:\n",
    "        - data (numpy matrix): dataset\n",
    "        - coordinate_indexes (tuple): in the format: (ROW_MIN, COL_MIN, ROW_MAX, COL_MAX)\n",
    "        \n",
    "    Returns:\n",
    "        - tuple of the following format: (MIN_LAT, MIN_LNG, MAX_LAT, MAX_LNG)\n",
    "    \"\"\"\n",
    "    row_min, col_min, row_max, col_max = coordinate_indexes\n",
    "\n",
    "    f1 = data[data[:, 4] >= row_min]\n",
    "    f2 = f1[f1[:, 4] < row_max]\n",
    "    f3 = f2[f2[:, 5] >= col_min]\n",
    "    f4 = f3[f3[:, 5] < col_max]\n",
    "\n",
    "    return f4"
   ]
  },
  {
   "cell_type": "code",
   "execution_count": 5,
   "metadata": {},
   "outputs": [],
   "source": [
    "def ith_coords(dataset, i):\n",
    "    return dataset[i][0], dataset[i][1]"
   ]
  },
  {
   "cell_type": "code",
   "execution_count": 6,
   "metadata": {},
   "outputs": [],
   "source": [
    "def plot_slices_per_location(model, *coords):\n",
    "    \"\"\"\n",
    "    Plot the number of bikes at coordinates over time given a GP.\n",
    "    \n",
    "    Params:\n",
    "        - model (GPy model): model to sample from\n",
    "        - *coords (list(tuples)): list of tuples, with each tuple in the format (LAT, LNG)\n",
    "    \"\"\"\n",
    "    for idx, coord in enumerate(coords):\n",
    "        lat, lng = coord        \n",
    "\n",
    "        figure = GPy.plotting.plotting_library().figure(idx+1)\n",
    "        canvas = model.plot(figure=figure, fixed_inputs=[(0, lat), (1, lng)])\n",
    "\n",
    "    GPy.plotting.show(canvas)"
   ]
  },
  {
   "cell_type": "code",
   "execution_count": 7,
   "metadata": {},
   "outputs": [],
   "source": [
    "def plot_slices_per_timeslice(model, *timeslices):\n",
    "    \"\"\"\n",
    "    Plot a density graph of bikes at coordinates for a given time.\n",
    "    \n",
    "    Params:\n",
    "        - model (GPy model): model to sample from\n",
    "        - *timeslices (list(int)): list of timeslices in UNIX timestamp\n",
    "    \"\"\"\n",
    "    \n",
    "    for idx, timestamp in enumerate(timeslices):\n",
    "        figure = GPy.plotting.plotting_library().figure(idx+1)\n",
    "        canvas = model.plot(figure=figure, fixed_inputs=[(2, timestamp)])\n",
    "\n",
    "    GPy.plotting.show(canvas)"
   ]
  },
  {
   "cell_type": "code",
   "execution_count": 8,
   "metadata": {},
   "outputs": [],
   "source": [
    "def load_data(filename, top_left=None, bottom_right=None):\n",
    "    MAX_AREA = (BOTTOM_RIGHT[0], TOP_LEFT[1], TOP_LEFT[0], BOTTOM_RIGHT[1])\n",
    "    data = filter_by_coordinates(np.load(filename), MAX_AREA)\n",
    "    \n",
    "    X, y = data[:,0:3], data[:,3]\n",
    "    \n",
    "    return X, y"
   ]
  },
  {
   "cell_type": "code",
   "execution_count": 16,
   "metadata": {},
   "outputs": [],
   "source": [
    "def run_gp(dataset, kernel, top_left=None, bottom_right=None):\n",
    "    \"\"\"\n",
    "    Runs the entire GP as a single method and returns the trained model. It is possible to continue\n",
    "    training it with restarts after the initial training.\n",
    "    \n",
    "    Params:\n",
    "        - dataset (str): name of dataset in `.npy` format to train the GP\n",
    "        - kernel: GPy kernel object that defines the covariance function of our GP\n",
    "        - top_left (tuple): (LAT, LNG) of the top left corner of our area concerned\n",
    "        - bottom_right (tuple): (LAT, LNG) of the bottom right corner of our area concerned\n",
    "\n",
    "    Returns:\n",
    "        - a trained GPy model\n",
    "    \"\"\"\n",
    "    X, y = load_data(dataset, top_left=top_left, bottom_right=bottom_right)\n",
    "    \n",
    "    print('Training GP...')\n",
    "    print(f'X shape: {X.shape}')\n",
    "    print(f'y shape: {y.shape}')\n",
    "    \n",
    "    model = GPy.models.GPRegression(X, y[:,None], kernel)\n",
    "    model.optimize(messages=True)\n",
    "    \n",
    "    display(model)\n",
    "    \n",
    "    return model"
   ]
  },
  {
   "cell_type": "markdown",
   "metadata": {},
   "source": [
    "# Kernels\n",
    "\n",
    "We are going to experiment with the `Matern32` kernel in this notebook."
   ]
  },
  {
   "cell_type": "markdown",
   "metadata": {},
   "source": [
    "## Matern32 Kernel"
   ]
  },
  {
   "cell_type": "code",
   "execution_count": 11,
   "metadata": {},
   "outputs": [],
   "source": [
    "matern32 = GPy.kern.Matern32(3)"
   ]
  },
  {
   "cell_type": "code",
   "execution_count": 12,
   "metadata": {},
   "outputs": [
    {
     "data": {
      "text/html": [
       "<style type=\"text/css\">\n",
       ".tg  {font-family:\"Courier New\", Courier, monospace !important;padding:2px 3px;word-break:normal;border-collapse:collapse;border-spacing:0;border-color:#DCDCDC;margin:0px auto;width:100%;}\n",
       ".tg td{font-family:\"Courier New\", Courier, monospace !important;font-weight:bold;color:#444;background-color:#F7FDFA;border-style:solid;border-width:1px;overflow:hidden;word-break:normal;border-color:#DCDCDC;}\n",
       ".tg th{font-family:\"Courier New\", Courier, monospace !important;font-weight:normal;color:#fff;background-color:#26ADE4;border-style:solid;border-width:1px;overflow:hidden;word-break:normal;border-color:#DCDCDC;}\n",
       ".tg .tg-left{font-family:\"Courier New\", Courier, monospace !important;font-weight:normal;text-align:left;}\n",
       ".tg .tg-center{font-family:\"Courier New\", Courier, monospace !important;font-weight:normal;text-align:center;}\n",
       ".tg .tg-right{font-family:\"Courier New\", Courier, monospace !important;font-weight:normal;text-align:right;}\n",
       "</style>\n",
       "<table class=\"tg\"><tr><th><b>  Mat32.     </b></th><th><b>value</b></th><th><b>constraints</b></th><th><b>priors</b></th></tr>\n",
       "<tr><td class=tg-left>  variance   </td><td class=tg-right>  1.0</td><td class=tg-center>    +ve    </td><td class=tg-center>      </td></tr>\n",
       "<tr><td class=tg-left>  lengthscale</td><td class=tg-right>  1.0</td><td class=tg-center>    +ve    </td><td class=tg-center>      </td></tr>\n",
       "</table>"
      ],
      "text/plain": [
       "<GPy.kern.src.stationary.Matern32 at 0x7f874ddd26a0>"
      ]
     },
     "metadata": {},
     "output_type": "display_data"
    }
   ],
   "source": [
    "display(matern32)"
   ]
  },
  {
   "cell_type": "markdown",
   "metadata": {},
   "source": [
    "## Periodic Kernel"
   ]
  },
  {
   "cell_type": "code",
   "execution_count": 13,
   "metadata": {},
   "outputs": [],
   "source": [
    "periodic = GPy.kern.StdPeriodic(3)"
   ]
  },
  {
   "cell_type": "code",
   "execution_count": 14,
   "metadata": {
    "scrolled": true
   },
   "outputs": [
    {
     "data": {
      "text/html": [
       "<style type=\"text/css\">\n",
       ".tg  {font-family:\"Courier New\", Courier, monospace !important;padding:2px 3px;word-break:normal;border-collapse:collapse;border-spacing:0;border-color:#DCDCDC;margin:0px auto;width:100%;}\n",
       ".tg td{font-family:\"Courier New\", Courier, monospace !important;font-weight:bold;color:#444;background-color:#F7FDFA;border-style:solid;border-width:1px;overflow:hidden;word-break:normal;border-color:#DCDCDC;}\n",
       ".tg th{font-family:\"Courier New\", Courier, monospace !important;font-weight:normal;color:#fff;background-color:#26ADE4;border-style:solid;border-width:1px;overflow:hidden;word-break:normal;border-color:#DCDCDC;}\n",
       ".tg .tg-left{font-family:\"Courier New\", Courier, monospace !important;font-weight:normal;text-align:left;}\n",
       ".tg .tg-center{font-family:\"Courier New\", Courier, monospace !important;font-weight:normal;text-align:center;}\n",
       ".tg .tg-right{font-family:\"Courier New\", Courier, monospace !important;font-weight:normal;text-align:right;}\n",
       "</style>\n",
       "<table class=\"tg\"><tr><th><b>  std_periodic.</b></th><th><b>value</b></th><th><b>constraints</b></th><th><b>priors</b></th></tr>\n",
       "<tr><td class=tg-left>  variance     </td><td class=tg-right>  1.0</td><td class=tg-center>    +ve    </td><td class=tg-center>      </td></tr>\n",
       "<tr><td class=tg-left>  period       </td><td class=tg-right>  1.0</td><td class=tg-center>    +ve    </td><td class=tg-center>      </td></tr>\n",
       "<tr><td class=tg-left>  lengthscale  </td><td class=tg-right>  1.0</td><td class=tg-center>    +ve    </td><td class=tg-center>      </td></tr>\n",
       "</table>"
      ],
      "text/plain": [
       "<GPy.kern.src.standard_periodic.StdPeriodic at 0x7f877d7fa550>"
      ]
     },
     "metadata": {},
     "output_type": "display_data"
    }
   ],
   "source": [
    "display(periodic)"
   ]
  },
  {
   "cell_type": "markdown",
   "metadata": {},
   "source": [
    "# Run Gaussian Process"
   ]
  },
  {
   "cell_type": "code",
   "execution_count": null,
   "metadata": {},
   "outputs": [
    {
     "name": "stdout",
     "output_type": "stream",
     "text": [
      "Training GP...\n",
      "X shape: (7344, 3)\n",
      "y shape: (7344,)\n"
     ]
    }
   ],
   "source": [
    "TOP_LEFT = (1.395520, 103.889045)\n",
    "BOTTOM_RIGHT = (1.390112, 103.896281)\n",
    "\n",
    "model = run_gp('../data/filtered_data.npy', periodic + matern32, top_left=TOP_LEFT, bottom_right=BOTTOM_RIGHT)"
   ]
  }
 ],
 "metadata": {
  "kernelspec": {
   "display_name": "Python 3",
   "language": "python",
   "name": "python3"
  },
  "language_info": {
   "codemirror_mode": {
    "name": "ipython",
    "version": 3
   },
   "file_extension": ".py",
   "mimetype": "text/x-python",
   "name": "python",
   "nbconvert_exporter": "python",
   "pygments_lexer": "ipython3",
   "version": "3.6.2"
  }
 },
 "nbformat": 4,
 "nbformat_minor": 2
}
